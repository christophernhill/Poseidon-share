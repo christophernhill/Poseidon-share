{
 "cells": [
  {
   "cell_type": "code",
   "execution_count": null,
   "metadata": {},
   "outputs": [],
   "source": [
    "#\n",
    "# On SciServer works with Oceanography image and Oceanography kernel, but need to do following in terminal\n",
    "# $ conda activate Oceanography\n",
    "# $ conda install -y -c conda-forge s3fs\n",
    "# $ conda install -y -c conda-forge h5netcdf\n",
    "# \n",
    "import s3fs\n",
    "import h5netcdf\n",
    "import xarray\n",
    "%load grid.py"
   ]
  },
  {
   "cell_type": "code",
   "execution_count": null,
   "metadata": {},
   "outputs": [],
   "source": [
    "fs=s3fs.S3FileSystem(anon=True,client_kwargs={'endpoint_url': \"https://mghp.osn.xsede.org\"})\n",
    "f1=fs.open('cnh-bucket-1/DYAMOND/c1440_llc2160/holding/tavg_01hr_3d_U_Mv/DYAMOND_c1440_llc2160.tavg_01hr_3d_U_Mv.20200123_2030z.nc4', 'rb')\n",
    "f2=fs.open('cnh-bucket-1/DYAMOND/c1440_llc2160/holding/const_2d_asm_Mx/DYAMOND_c1440_llc2160.const_2d_asm_Mx.20200122_0000z.nc4','rb')\n",
    "ds = xarray.open_dataset(f1, engine='h5netcdf')\n",
    "dd = xarray.open_dataset(f2, engine='h5netcdf')"
   ]
  },
  {
   "cell_type": "code",
   "execution_count": null,
   "metadata": {},
   "outputs": [],
   "source": [
    "def plot_geos5_cs1440_layer(phi,scale=4,ncs=1440):\n",
    "    \"\"\"\n",
    "      Plot a GEOS-5 cs1440 layer\n",
    "    \"\"\"\n",
    "    import matplotlib.pyplot as plt\n",
    "    import numpy as np\n",
    "    ncols=4;\n",
    "    nrows=3;\n",
    "    s1=scale;s2=s1*ncols/nrows;fig = plt.figure(figsize=(s2*7.825,s1*8)) # Notice the equal aspect ratio\n",
    "    ax = [fig.add_subplot(nrows,ncols,i+1) for i in range(nrows*ncols)]\n",
    "    fn=[-1, 2,-1,-1, 4, 0, 1, 3,-1, 5,-1,-1];\n",
    "    kr=[ 0, 3, 0, 0, 1, 0, 0, 1, 0, 0, 0, 0];\n",
    "    i=0\n",
    "    cmin=np.min(phi)\n",
    "    cmax=np.max(phi)\n",
    "    for a in ax:\n",
    "        f=fn[i]\n",
    "        if f >= 0:\n",
    "            pp=phi[0,f*ncs+0:f*ncs+ncs,:]\n",
    "            pp=np.rot90(pp,kr[i])\n",
    "        i+=1\n",
    "        a.set_xticklabels([])\n",
    "        a.set_yticklabels([])\n",
    "        a.set_aspect('auto')\n",
    "        a.axis('equal')\n",
    "        if f >= 0:\n",
    "            a.imshow(pp,origin=\"lower\",vmin=cmin,vmax=cmax)\n",
    "    fig.subplots_adjust(wspace=0, hspace=0)\n",
    "\n",
    "\n",
    "# In[19]:\n"
   ]
  },
  {
   "cell_type": "code",
   "execution_count": null,
   "metadata": {},
   "outputs": [],
   "source": [
    "phi=dd[\"FRLAND\"][:,:,:]+dd[\"FRLANDICE\"][:,:,:]   # Get a \"land\" mask\n",
    "phiU=ds[\"U\"][:,51,:,:]                           # Get U at bottom layer\n"
   ]
  },
  {
   "cell_type": "code",
   "execution_count": null,
   "metadata": {},
   "outputs": [],
   "source": [
    "plot_geos5_cs1440_layer(phi)"
   ]
  },
  {
   "cell_type": "code",
   "execution_count": null,
   "metadata": {},
   "outputs": [],
   "source": [
    "plot_geos5_cs1440_layer(phiU)"
   ]
  }
 ],
 "metadata": {
  "kernelspec": {
   "display_name": "Python 3.8 (py38)",
   "language": "python",
   "name": "py38"
  },
  "language_info": {
   "codemirror_mode": {
    "name": "ipython",
    "version": 3
   },
   "file_extension": ".py",
   "mimetype": "text/x-python",
   "name": "python",
   "nbconvert_exporter": "python",
   "pygments_lexer": "ipython3",
   "version": "3.8.5"
  }
 },
 "nbformat": 4,
 "nbformat_minor": 4
}
