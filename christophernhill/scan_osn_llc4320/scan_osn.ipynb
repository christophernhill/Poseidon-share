{
 "cells": [
  {
   "cell_type": "code",
   "execution_count": null,
   "id": "bd2e69ac-ba92-43b0-a471-3b9c4e91b71e",
   "metadata": {},
   "outputs": [],
   "source": [
    "import s3fs\n",
    "import h5netcdf\n",
    "import xarray\n",
    "import zarr"
   ]
  },
  {
   "cell_type": "code",
   "execution_count": null,
   "id": "9c47aed1-f345-43da-a15c-05f2c3711f01",
   "metadata": {},
   "outputs": [],
   "source": [
    "fs=s3fs.S3FileSystem(anon=True,client_kwargs={'endpoint_url': \"https://mghp.osn.xsede.org\"})\n",
    "xzs_arr=[]\n",
    "xzv_arr=[]\n",
    "for dn in [\"data%2.2d_%2.2d\"%(j,i) for j in range(1,10) for i in range (1,2) ]:\n",
    " sn=\"cnh-bucket-1/poseidon/%s/llc4320_tests/10dayhourly/scalars\"%(dn)\n",
    " print(\"Scanning \\\"%s\\\"\"%(sn))\n",
    " store=s3fs.S3Map(root=sn, s3=fs, check=False)\n",
    " xzs_arr.append( xarray.open_zarr(store) )\n",
    " sn=\"cnh-bucket-1/poseidon/%s/llc4320_tests/10dayhourly/velocities\"%(dn)\n",
    " print(\"Scanning \\\"%s\\\"\"%(sn))\n",
    " store=s3fs.S3Map(root=sn, s3=fs, check=False)\n",
    " xzv_arr.append( xarray.open_zarr(store) )\n",
    "\n",
    "xzs=xarray.concat(xzs_arr, dim=\"time\")\n",
    "xzv=xarray.concat(xzv_arr, dim=\"time\")\n",
    "\n",
    "sn=\"cnh-bucket-1/poseidon/data01_01/llc4320_grid\"\n",
    "print(\"Scanning \\\"%s\\\"\"%(sn)) \n",
    "store=s3fs.S3Map(root=sn, s3=fs, check=False)\n",
    "xzg=xarray.open_zarr(store)\n",
    "\n",
    "sn=\"cnh-bucket-1/poseidon/data01_01/llc4320_masks.zarr\"\n",
    "print(\"Scanning \\\"%s\\\"\"%(sn))\n",
    "store=s3fs.S3Map(root=sn, s3=fs, check=False)\n",
    "xzm=xarray.open_zarr(store)\n",
    "\n",
    "xz=xarray.merge([xzs,xzv,xzg,xzm])"
   ]
  }
 ],
 "metadata": {
  "kernelspec": {
   "display_name": "projects-osn",
   "language": "python",
   "name": "projects-osn"
  },
  "language_info": {
   "codemirror_mode": {
    "name": "ipython",
    "version": 3
   },
   "file_extension": ".py",
   "mimetype": "text/x-python",
   "name": "python",
   "nbconvert_exporter": "python",
   "pygments_lexer": "ipython3",
   "version": "3.9.2"
  }
 },
 "nbformat": 4,
 "nbformat_minor": 5
}
